{
  "nbformat": 4,
  "nbformat_minor": 0,
  "metadata": {
    "colab": {
      "provenance": [],
      "authorship_tag": "ABX9TyOVVfhv1eG6ExPDuLpme5kw",
      "include_colab_link": true
    },
    "kernelspec": {
      "name": "python3",
      "display_name": "Python 3"
    },
    "language_info": {
      "name": "python"
    }
  },
  "cells": [
    {
      "cell_type": "markdown",
      "metadata": {
        "id": "view-in-github",
        "colab_type": "text"
      },
      "source": [
        "<a href=\"https://colab.research.google.com/github/Jarayasarabia1/portafolio/blob/main/Copia_de_Actividadmodulo5.ipynb\" target=\"_parent\"><img src=\"https://colab.research.google.com/assets/colab-badge.svg\" alt=\"Open In Colab\"/></a>"
      ]
    },
    {
      "cell_type": "code",
      "execution_count": null,
      "metadata": {
        "colab": {
          "base_uri": "https://localhost:8080/"
        },
        "id": "fRl2X-W451NK",
        "outputId": "07f4e467-9ed9-4f20-d309-c2b80c755851"
      },
      "outputs": [
        {
          "output_type": "stream",
          "name": "stdout",
          "text": [
            "['teléfono', 'zapatos', 'botella de agua', 'libro', 'refrigerador', 'cargador', 'zapatillas']\n",
            "['teléfono', 'zapatos', 'botella de agua']\n",
            "{'teléfono': 20, 'zapatos': 30, 'botella de agua': 50, 'libro': 15, 'refrigerador': 2, 'cama': 50, 'zapatillas': 40, 'polera': 30, 'cinturón': 5, 'cuchara': 6}\n",
            "{'teléfono': 20, 'zapatos': 30, 'botella de agua': 50, 'libro': 15, 'refrigerador': 2, 'cama': 50, 'zapatillas': 40, 'polera': 30, 'cinturón': 5, 'cuchara': 6, 'sillón': 20}\n",
            "La cantidad de stock de teléfono es: 20\n",
            "{'teléfono': 20, 'zapatos': 30, 'botella de agua': 50, 'libro': 15, 'refrigerador': 2, 'cama': 50, 'zapatillas': 40, 'polera': 30, 'cinturón': 5, 'cuchara': 6, 'sillón': 20}\n",
            "La cantidad de stock de teléfono es: 20\n",
            "La segunda categoría es: electrodomésticos\n",
            "calzado\n",
            "electrodomésticos\n",
            "utensilio de cocina\n",
            "mueble\n",
            "{'teléfono', 'refrigerador', 'zapatos', 'libro', 'botella de agua'}\n",
            "['TELÉFONO', 'ZAPATOS', 'BOTELLA DE AGUA', 'LIBRO', 'REFRIGERADOR']\n"
          ]
        }
      ],
      "source": [
        "# 1.Crea una lista productos que contenga al menos cinco nombres de productos.\n",
        "\n",
        "mi_lista = [\"teléfono\", \"zapatos\", \"botella de agua\", \"libro\", \"refrigerador\"]\n",
        "\n",
        "# 2.Agrega dos productos más a la lista productos y luego rescata los primeros tres elementos en una nueva lista llamada productos_destacados.\n",
        "\n",
        "mi_lista.append(\"cargador\")\n",
        "mi_lista.append(\"zapatillas\")\n",
        "\n",
        "productos_destacados = mi_lista[0:3]\n",
        "\n",
        "print(mi_lista)\n",
        "print(productos_destacados)\n",
        "\n",
        "#3. Crea un diccionario inventario donde cada clave sea el nombre de un producto y el valor sea la cantidad en stock. Incluye al menos cinco productos con sus cantidades.\n",
        "\n",
        "diccionario_inventario = {\"teléfono\":20 , \"zapatos\": 30 , \"botella de agua\": 50 , \"libro\": 15, \"refrigerador\":2}\n",
        "\n",
        "diccionario_inventario[\"cama\"] = 50\n",
        "diccionario_inventario[\"zapatillas\"] = 40\n",
        "diccionario_inventario[\"polera\"] = 30\n",
        "diccionario_inventario[\"cinturón\"] = 5\n",
        "diccionario_inventario[\"cuchara\"] = 6\n",
        "\n",
        "print(diccionario_inventario)\n",
        "\n",
        "#4.Agrega un nuevo producto al diccionario inventario y muestra la cantidad en stock de un producto específico (elige cualquiera de los cinco productos iniciales).\n",
        "\n",
        "diccionario_inventario[\"sillón\"] = 20\n",
        "\n",
        "teléfono = diccionario_inventario[\"teléfono\"]\n",
        "\n",
        "print(diccionario_inventario)\n",
        "print(f\"La cantidad de stock de teléfono es: {teléfono}\")\n",
        "\n",
        "#5.Crea una tupla categorías que contenga las categorías de los productos (por ejemplo, “Electrónica”, “Ropa”, “Alimentos”). Rescata y muestra la segunda categoría.\n",
        "\n",
        "categorías_tupla = ()\n",
        "teléfono = diccionario_inventario[\"teléfono\"]\n",
        "\n",
        "print(diccionario_inventario)\n",
        "print(f\"La cantidad de stock de teléfono es: {teléfono}\")\n",
        "\n",
        "#5.Crea una tupla categorías que contenga las categorías de los productos (por ejemplo, “Electrónica”, “Ropa”, “Alimentos”). Rescata y muestra la segunda categoría.\n",
        "\n",
        "categorías_tupla = (\"calzado\", \"electrodomésticos\", \"utensilio de cocina\", \"mueble\")\n",
        "\n",
        "segunda_categoría = categorías_tupla[1]\n",
        "print(f\"La segunda categoría es: {segunda_categoría}\")\n",
        "\n",
        "#6. Empaqueta las categorías en una tupla y luego desempaquétalas en variables individuales para que cada categoría quede asignada a una variable.\n",
        "\n",
        "categorías_tupla = (\"calzado\", \"electrodomésticos\", \"utensilio de cocina\", \"mueble\")\n",
        "\n",
        "zapatillas, refrigerador, cuchara, cama = categorías_tupla\n",
        "print(zapatillas)\n",
        "print(refrigerador)\n",
        "print(cuchara)\n",
        "print(cama)\n",
        "\n",
        "# 7.Crea un set productos_unicos a partir de la lista productos y verifica que no existan elementos duplicados.\n",
        "\n",
        "mi_lista = [\"teléfono\", \"zapatos\", \"botella de agua\", \"libro\", \"refrigerador\"]\n",
        "\n",
        "set_productos = set([\"teléfono\", \"zapatos\", \"botella de agua\", \"libro\", \"refrigerador\"])\n",
        "print(set_productos)\n",
        "\n",
        "#8. Usa comprensión de listas para crear una lista productos_mayusculas que contenga los nombres de productos en mayúsculas.\n",
        "\n",
        "lista = [\"teléfono\", \"zapatos\", \"botella de agua\", \"libro\", \"refrigerador\"]\n",
        "mayuscula = [i.upper() for i in lista]\n",
        "print(mayuscula)\n"
      ]
    }
  ]
}