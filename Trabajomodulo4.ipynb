{
  "nbformat": 4,
  "nbformat_minor": 0,
  "metadata": {
    "colab": {
      "provenance": [],
      "authorship_tag": "ABX9TyPndxcx6Sr1E0I5Cc8gcbkF",
      "include_colab_link": true
    },
    "kernelspec": {
      "name": "python3",
      "display_name": "Python 3"
    },
    "language_info": {
      "name": "python"
    }
  },
  "cells": [
    {
      "cell_type": "markdown",
      "metadata": {
        "id": "view-in-github",
        "colab_type": "text"
      },
      "source": [
        "<a href=\"https://colab.research.google.com/github/Jarayasarabia1/portafolio/blob/main/Trabajomodulo4.ipynb\" target=\"_parent\"><img src=\"https://colab.research.google.com/assets/colab-badge.svg\" alt=\"Open In Colab\"/></a>"
      ]
    },
    {
      "cell_type": "code",
      "execution_count": null,
      "metadata": {
        "colab": {
          "base_uri": "https://localhost:8080/"
        },
        "id": "HBk-NxxdLUOa",
        "outputId": "6318bf59-b103-4543-f64f-970d8ec13d45"
      },
      "outputs": [
        {
          "output_type": "stream",
          "name": "stdout",
          "text": [
            "El área del rectangulo es: 24\n"
          ]
        }
      ],
      "source": [
        "#1.\tCrea una función calcular_area_rectangulo.\n",
        "\n",
        "def calcular_area_rectangulo(a,b):\n",
        "    return (a * b)\n",
        "\n",
        "resultado = calcular_area_rectangulo(4,6)\n",
        "print(\"El área del rectangulo es:\", resultado)\n"
      ]
    },
    {
      "cell_type": "code",
      "source": [
        "#2.\tCrea una función calcular_circunferencia.\n",
        "\n",
        "import math\n",
        "\n",
        "def calcular_circunferencia(radio):\n",
        "    circunferencia = 2 * radio * math.pi\n",
        "    return circunferencia\n",
        "\n",
        "radio = 5\n",
        "resultado = calcular_circunferencia(radio)\n",
        "print(f\"El valor de la circunferencia es: {resultado:.2f}\")\n",
        "\n"
      ],
      "metadata": {
        "colab": {
          "base_uri": "https://localhost:8080/"
        },
        "id": "DlOR_w0hNH-w",
        "outputId": "a1a94954-1b14-4fb1-9d89-c757a2fcfe5b"
      },
      "execution_count": null,
      "outputs": [
        {
          "output_type": "stream",
          "name": "stdout",
          "text": [
            "El valor de la circunferencia es: 31.42\n"
          ]
        }
      ]
    },
    {
      "cell_type": "code",
      "source": [
        "#3.\tCrea una función calcular_promedio que reciba una lista de números y retorne el promedio.\n",
        "\n",
        "def calcular_promedio(numeros):\n",
        "    suma = sum(numeros)\n",
        "    cantidad = len(numeros)\n",
        "    return suma / cantidad\n",
        "\n",
        "numeros = [5,10,15,20,25,30,35]\n",
        "\n",
        "promedio = calcular_promedio(numeros)\n",
        "print(promedio)\n"
      ],
      "metadata": {
        "colab": {
          "base_uri": "https://localhost:8080/"
        },
        "id": "30qIi3LsVttD",
        "outputId": "c1a295eb-d952-4846-d519-cd1857abbc4c"
      },
      "execution_count": null,
      "outputs": [
        {
          "output_type": "stream",
          "name": "stdout",
          "text": [
            "20.0\n"
          ]
        }
      ]
    },
    {
      "cell_type": "code",
      "source": [
        "#4.\n",
        "\n",
        "import statistics as stat\n",
        "\n",
        "numeros = [5,10,15,20,25,30,35]\n",
        "\n",
        "def calcular_promedio_avanzado(numeros):\n",
        "    return stat.mean(numeros)\n",
        "\n",
        "promedio = calcular_promedio_avanzado(numeros)\n",
        "print(promedio)\n",
        "\n"
      ],
      "metadata": {
        "colab": {
          "base_uri": "https://localhost:8080/"
        },
        "id": "iU_WbkzR-49_",
        "outputId": "8390259d-92a2-4d5d-f44b-1a0543f7c026"
      },
      "execution_count": null,
      "outputs": [
        {
          "output_type": "stream",
          "name": "stdout",
          "text": [
            "20\n"
          ]
        }
      ]
    },
    {
      "cell_type": "code",
      "source": [
        "#5.\tCrea una función generar_numeros_aleatorios que reciba dos parámetros (cantidad y limite), y retorne una lista de números aleatorios entre 1 y el límite especificado. Usa el módulo random.\n",
        "\n",
        "import random\n",
        "\n",
        "def generar_numeros_aleatorios(cantidad,limite):\n",
        "    lista = []\n",
        "    for i in range(cantidad):\n",
        "      numero = random.randint(1,limite)\n",
        "      lista.append(numero)\n",
        "\n",
        "    return lista\n",
        "\n",
        "cantidad = 10\n",
        "limite = 30\n",
        "\n",
        "print(generar_numeros_aleatorios(cantidad,limite))"
      ],
      "metadata": {
        "colab": {
          "base_uri": "https://localhost:8080/"
        },
        "id": "FY_DBZ-rIrbd",
        "outputId": "14c2bd13-b0c8-4182-b30b-86dbfdee8443"
      },
      "execution_count": null,
      "outputs": [
        {
          "output_type": "stream",
          "name": "stdout",
          "text": [
            "[13, 4, 19, 3, 22, 3, 10, 10, 10, 9]\n"
          ]
        }
      ]
    },
    {
      "cell_type": "code",
      "source": [
        "#6.\tEscribe un programa que utilice cada una de las funciones anteriores e imprime los resultados de cada cálculo.\n",
        "\n",
        "\n",
        "import math\n",
        "import statistics as stat\n",
        "import random\n",
        "\n",
        "\n",
        "#1.\tCrea una función calcular_area_rectangulo.\n",
        "\n",
        "def calcular_area_rectangulo(a,b):\n",
        "    return (a * b)\n",
        "\n",
        "a = int(input(\"Valor del ancho del rectángulo: \"))\n",
        "b = int(input(\"Valor del largo del rectángulo: \"))\n",
        "\n",
        "resultado = calcular_area_rectangulo(a,b)\n",
        "print(\"El área del rectangulo es:\", resultado)\n",
        "\n",
        "\n",
        "#2.\tCrea una función calcular_circunferencia.\n",
        "\n",
        "\n",
        "def calcular_circunferencia(radio):\n",
        "    circunferencia = 2 * radio * math.pi\n",
        "    return circunferencia\n",
        "\n",
        "radio = float(input(\"Ingresar radio del círculo: \"))\n",
        "resultado = calcular_circunferencia(radio)\n",
        "print(f\"El valor de la circunferencia es: {resultado:.2f}\")\n",
        "\n",
        "\n",
        "#3. Crea una función calcular_promedio que reciba una lista de números y retorne el promedio.\n",
        "\n",
        "def calcular_promedio(numeros):\n",
        "    suma = sum(numeros)\n",
        "    cantidad = len(numeros)\n",
        "    return suma / cantidad\n",
        "\n",
        "numeros = [5,10,15,20,25,30,35]\n",
        "\n",
        "promedio = calcular_promedio(numeros)\n",
        "print(promedio)\n",
        "\n",
        "\n",
        "#4.\n",
        "\n",
        "numeros = [5,10,15,20,25,30,35]\n",
        "\n",
        "def calcular_promedio_avanzado(numeros):\n",
        "    return stat.mean(numeros)\n",
        "\n",
        "promedio = calcular_promedio_avanzado(numeros)\n",
        "print(promedio)\n",
        "\n",
        "\n",
        "#5.\tCrea una función generar_numeros_aleatorios que reciba dos parámetros, y retorne una lista de números aleatorios entre 1 y el límite especificado.\n",
        "\n",
        "def generar_numeros_aleatorios(cantidad,limite):\n",
        "    lista = []\n",
        "    for i in range(cantidad):\n",
        "      numero = random.randint(1,limite)\n",
        "      lista.append(numero)\n",
        "\n",
        "    return lista\n",
        "\n",
        "cantidad = 10\n",
        "limite = 30\n",
        "\n",
        "print(generar_numeros_aleatorios(cantidad,limite))\n",
        "\n",
        "\n"
      ],
      "metadata": {
        "colab": {
          "base_uri": "https://localhost:8080/"
        },
        "id": "d_XVYkG5ju0u",
        "outputId": "12e8933f-0fc6-4e0a-f5e4-194d6aaa3887"
      },
      "execution_count": null,
      "outputs": [
        {
          "output_type": "stream",
          "name": "stdout",
          "text": [
            "Valor del ancho del rectángulo: 6\n",
            "Valor del largo del rectángulo: 4\n",
            "El área del rectangulo es: 24\n",
            "Ingresar radio del círculo: 5\n",
            "El valor de la circunferencia es: 31.42\n",
            "20.0\n",
            "20\n",
            "[4, 5, 9, 7, 25, 24, 11, 27, 13, 9]\n"
          ]
        }
      ]
    }
  ]
}